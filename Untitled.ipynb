{
 "cells": [
  {
   "cell_type": "code",
   "execution_count": 1,
   "id": "50c8d744",
   "metadata": {},
   "outputs": [],
   "source": [
    "import pandas as pd"
   ]
  },
  {
   "cell_type": "code",
   "execution_count": 2,
   "id": "9f85efd4",
   "metadata": {},
   "outputs": [],
   "source": [
    "df=pd.read_csv(\"Flipkart_Mobiles.csv\")"
   ]
  },
  {
   "cell_type": "code",
   "execution_count": 35,
   "id": "5d3116f2",
   "metadata": {},
   "outputs": [
    {
     "data": {
      "text/html": [
       "<div>\n",
       "<style scoped>\n",
       "    .dataframe tbody tr th:only-of-type {\n",
       "        vertical-align: middle;\n",
       "    }\n",
       "\n",
       "    .dataframe tbody tr th {\n",
       "        vertical-align: top;\n",
       "    }\n",
       "\n",
       "    .dataframe thead th {\n",
       "        text-align: right;\n",
       "    }\n",
       "</style>\n",
       "<table border=\"1\" class=\"dataframe\">\n",
       "  <thead>\n",
       "    <tr style=\"text-align: right;\">\n",
       "      <th></th>\n",
       "      <th>Brand</th>\n",
       "      <th>Model</th>\n",
       "      <th>Color</th>\n",
       "      <th>Memory</th>\n",
       "      <th>Storage</th>\n",
       "      <th>Rating</th>\n",
       "      <th>Selling Price</th>\n",
       "      <th>Original Price</th>\n",
       "    </tr>\n",
       "  </thead>\n",
       "  <tbody>\n",
       "    <tr>\n",
       "      <th>0</th>\n",
       "      <td>OPPO</td>\n",
       "      <td>A53</td>\n",
       "      <td>Moonlight Black</td>\n",
       "      <td>4 GB</td>\n",
       "      <td>64 GB</td>\n",
       "      <td>4.5</td>\n",
       "      <td>11990</td>\n",
       "      <td>15990</td>\n",
       "    </tr>\n",
       "    <tr>\n",
       "      <th>1</th>\n",
       "      <td>OPPO</td>\n",
       "      <td>A53</td>\n",
       "      <td>Mint Cream</td>\n",
       "      <td>4 GB</td>\n",
       "      <td>64 GB</td>\n",
       "      <td>4.5</td>\n",
       "      <td>11990</td>\n",
       "      <td>15990</td>\n",
       "    </tr>\n",
       "    <tr>\n",
       "      <th>2</th>\n",
       "      <td>OPPO</td>\n",
       "      <td>A53</td>\n",
       "      <td>Moonlight Black</td>\n",
       "      <td>6 GB</td>\n",
       "      <td>128 GB</td>\n",
       "      <td>4.3</td>\n",
       "      <td>13990</td>\n",
       "      <td>17990</td>\n",
       "    </tr>\n",
       "    <tr>\n",
       "      <th>3</th>\n",
       "      <td>OPPO</td>\n",
       "      <td>A53</td>\n",
       "      <td>Mint Cream</td>\n",
       "      <td>6 GB</td>\n",
       "      <td>128 GB</td>\n",
       "      <td>4.3</td>\n",
       "      <td>13990</td>\n",
       "      <td>17990</td>\n",
       "    </tr>\n",
       "    <tr>\n",
       "      <th>4</th>\n",
       "      <td>OPPO</td>\n",
       "      <td>A53</td>\n",
       "      <td>Electric Black</td>\n",
       "      <td>4 GB</td>\n",
       "      <td>64 GB</td>\n",
       "      <td>4.5</td>\n",
       "      <td>11990</td>\n",
       "      <td>15990</td>\n",
       "    </tr>\n",
       "  </tbody>\n",
       "</table>\n",
       "</div>"
      ],
      "text/plain": [
       "  Brand Model            Color Memory Storage  Rating  Selling Price  \\\n",
       "0  OPPO   A53  Moonlight Black   4 GB   64 GB     4.5          11990   \n",
       "1  OPPO   A53       Mint Cream   4 GB   64 GB     4.5          11990   \n",
       "2  OPPO   A53  Moonlight Black   6 GB  128 GB     4.3          13990   \n",
       "3  OPPO   A53       Mint Cream   6 GB  128 GB     4.3          13990   \n",
       "4  OPPO   A53   Electric Black   4 GB   64 GB     4.5          11990   \n",
       "\n",
       "   Original Price  \n",
       "0           15990  \n",
       "1           15990  \n",
       "2           17990  \n",
       "3           17990  \n",
       "4           15990  "
      ]
     },
     "execution_count": 35,
     "metadata": {},
     "output_type": "execute_result"
    }
   ],
   "source": [
    "df.head()"
   ]
  },
  {
   "cell_type": "markdown",
   "id": "bc45616f",
   "metadata": {},
   "source": [
    "# which mobile phone have higest selling price.?"
   ]
  },
  {
   "cell_type": "code",
   "execution_count": 29,
   "id": "37ef5f7a",
   "metadata": {},
   "outputs": [
    {
     "data": {
      "text/plain": [
       "3051    179900\n",
       "1351    179900\n",
       "1233    179900\n",
       "1459    179900\n",
       "3044    179900\n",
       "         ...  \n",
       "811       1099\n",
       "814       1099\n",
       "2011      1099\n",
       "987       1000\n",
       "988       1000\n",
       "Name: Selling Price, Length: 3114, dtype: int64"
      ]
     },
     "execution_count": 29,
     "metadata": {},
     "output_type": "execute_result"
    }
   ],
   "source": [
    "a=df['Selling Price'].sort_values(ascending=False)\n",
    "a"
   ]
  },
  {
   "cell_type": "code",
   "execution_count": 32,
   "id": "9a993fd0",
   "metadata": {},
   "outputs": [
    {
     "data": {
      "text/plain": [
       "Brand                         Apple\n",
       "Model             iPhone 13 Pro Max\n",
       "Color                          Gold\n",
       "Memory                          4GB\n",
       "Storage                        1 TB\n",
       "Rating                          4.7\n",
       "Selling Price                179900\n",
       "Original Price               179900\n",
       "Name: 3051, dtype: object"
      ]
     },
     "execution_count": 32,
     "metadata": {},
     "output_type": "execute_result"
    }
   ],
   "source": [
    "b=df.loc[3051]\n",
    "b"
   ]
  },
  {
   "cell_type": "markdown",
   "id": "4c72d31e",
   "metadata": {},
   "source": [
    "# which company have most mobile phones"
   ]
  },
  {
   "cell_type": "code",
   "execution_count": 41,
   "id": "aa44dfb1",
   "metadata": {},
   "outputs": [
    {
     "data": {
      "text/plain": [
       "Brand\n",
       "SAMSUNG         719\n",
       "Apple           387\n",
       "realme          327\n",
       "OPPO            260\n",
       "Nokia           213\n",
       "Xiaomi          198\n",
       "Infinix         151\n",
       "GIONEE          129\n",
       "vivo            124\n",
       "Lenovo          121\n",
       "ASUS            118\n",
       "Motorola        105\n",
       "LG               99\n",
       "POCO             74\n",
       "HTC              55\n",
       "Google Pixel     29\n",
       "IQOO              5\n",
       "dtype: int64"
      ]
     },
     "execution_count": 41,
     "metadata": {},
     "output_type": "execute_result"
    }
   ],
   "source": [
    "a=df.groupby('Brand')\n",
    "a.size().sort_values(ascending=False)"
   ]
  },
  {
   "cell_type": "code",
   "execution_count": 44,
   "id": "5554df75",
   "metadata": {},
   "outputs": [],
   "source": [
    "# a.get_group('SAMSUNG')"
   ]
  },
  {
   "cell_type": "markdown",
   "id": "aa70ee72",
   "metadata": {},
   "source": [
    "# #with 4gb memory which mobile have lowest selling price"
   ]
  },
  {
   "cell_type": "code",
   "execution_count": 51,
   "id": "fecfbf63",
   "metadata": {},
   "outputs": [
    {
     "data": {
      "text/html": [
       "<div>\n",
       "<style scoped>\n",
       "    .dataframe tbody tr th:only-of-type {\n",
       "        vertical-align: middle;\n",
       "    }\n",
       "\n",
       "    .dataframe tbody tr th {\n",
       "        vertical-align: top;\n",
       "    }\n",
       "\n",
       "    .dataframe thead th {\n",
       "        text-align: right;\n",
       "    }\n",
       "</style>\n",
       "<table border=\"1\" class=\"dataframe\">\n",
       "  <thead>\n",
       "    <tr style=\"text-align: right;\">\n",
       "      <th></th>\n",
       "      <th>Brand</th>\n",
       "      <th>Model</th>\n",
       "      <th>Color</th>\n",
       "      <th>Memory</th>\n",
       "      <th>Storage</th>\n",
       "      <th>Rating</th>\n",
       "      <th>Selling Price</th>\n",
       "      <th>Original Price</th>\n",
       "    </tr>\n",
       "  </thead>\n",
       "  <tbody>\n",
       "    <tr>\n",
       "      <th>1456</th>\n",
       "      <td>Apple</td>\n",
       "      <td>iPhone XS Max</td>\n",
       "      <td>Space Grey</td>\n",
       "      <td>4 GB</td>\n",
       "      <td>512 GB</td>\n",
       "      <td>4.6</td>\n",
       "      <td>144900</td>\n",
       "      <td>144900</td>\n",
       "    </tr>\n",
       "  </tbody>\n",
       "</table>\n",
       "</div>"
      ],
      "text/plain": [
       "      Brand           Model       Color Memory Storage  Rating  Selling Price  \\\n",
       "1456  Apple  iPhone XS Max   Space Grey   4 GB  512 GB     4.6         144900   \n",
       "\n",
       "      Original Price  \n",
       "1456          144900  "
      ]
     },
     "execution_count": 51,
     "metadata": {},
     "output_type": "execute_result"
    }
   ],
   "source": [
    "c=df['Memory']=='4 GB'\n",
    "d=df[c]\n",
    "e=d.sort_values('Selling Price')\n",
    "e.head(1)"
   ]
  },
  {
   "cell_type": "markdown",
   "id": "2f5bf418",
   "metadata": {},
   "source": [
    "# mobile phone with higest rating"
   ]
  },
  {
   "cell_type": "code",
   "execution_count": 53,
   "id": "ed9bf4eb",
   "metadata": {},
   "outputs": [
    {
     "data": {
      "text/plain": [
       "Brand                       vivo\n",
       "Model                        Z1x\n",
       "Color             Phantom Purple\n",
       "Memory                      6 GB\n",
       "Storage                    64 GB\n",
       "Rating                       5.0\n",
       "Selling Price              19990\n",
       "Original Price             19990\n",
       "Name: 2797, dtype: object"
      ]
     },
     "execution_count": 53,
     "metadata": {},
     "output_type": "execute_result"
    }
   ],
   "source": [
    "df['Rating'].sort_values(ascending=False)\n",
    "df.iloc[2797]"
   ]
  },
  {
   "cell_type": "code",
   "execution_count": null,
   "id": "3a4ec39d",
   "metadata": {},
   "outputs": [],
   "source": []
  }
 ],
 "metadata": {
  "kernelspec": {
   "display_name": "Python 3 (ipykernel)",
   "language": "python",
   "name": "python3"
  },
  "language_info": {
   "codemirror_mode": {
    "name": "ipython",
    "version": 3
   },
   "file_extension": ".py",
   "mimetype": "text/x-python",
   "name": "python",
   "nbconvert_exporter": "python",
   "pygments_lexer": "ipython3",
   "version": "3.9.13"
  }
 },
 "nbformat": 4,
 "nbformat_minor": 5
}
